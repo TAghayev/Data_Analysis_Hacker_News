{
  "metadata": {
    "kernelspec": {
      "name": "python",
      "display_name": "Python (Pyodide)",
      "language": "python"
    },
    "language_info": {
      "codemirror_mode": {
        "name": "python",
        "version": 3
      },
      "file_extension": ".py",
      "mimetype": "text/x-python",
      "name": "python",
      "nbconvert_exporter": "python",
      "pygments_lexer": "ipython3",
      "version": "3.8"
    }
  },
  "nbformat_minor": 4,
  "nbformat": 4,
  "cells": [
    {
      "cell_type": "markdown",
      "source": "# Project: Hacker News Data Exploration/Analytics\n\nThis project examines two types of posts from Hacker News to find posts that receive the most votes based off comments. Two types of posts are Ask HN and Show HN. Essentially, Ask HN is a type of post that asks a question from the Hacker News community. Show HN, is a post that shares something interesting to the Hacker News community, projects, videos, images, etc. \n\nIn this project, we will target two questions:\n1) Which of those two types of questions receive more comments on average?\n2) What is the ideal time for a post to be published, to receive more comments on average?\n\n\nThis data set is Hacker News posts from the last 12 months (up to September 26 2016).\nIt includes the following columns:\n\ntitle: title of the post (self explanatory)\nurl: the url of the item being linked to\nnum_points: the number of upvotes the post received\nnum_comments: the number of comments the post received\nauthor: the name of the account that made the post\ncreated_at: the date and time the post was made (the time zone is Eastern Time in the US)\n\nLicense of the dataset: https://creativecommons.org/publicdomain/zero/1.0/",
      "metadata": {}
    },
    {
      "cell_type": "markdown",
      "source": "# Ingest MRF\n\nFirst, we will ingest the MRF and remove the headers. Note: this dataset is from 2016, and contains almost 300.000 rows that includes Ask HN, Show HN, and \"Other\" type of posts. We have processed this dataset such that it contains only posts that have received 1 or more comments. ",
      "metadata": {}
    },
    {
      "cell_type": "code",
      "source": "# Ingest the data\nfrom csv import reader\n#opened_file = open('hacker_news.csv')\nraw_ingest_csv = open('hacker_news_2016_edited.csv')\nread_csv = reader(raw_ingest_csv)\n\nhn = list(read_csv)\n\nprint(hn[:5])",
      "metadata": {
        "trusted": true
      },
      "execution_count": 1,
      "outputs": [
        {
          "name": "stdout",
          "text": "[['ard-writing/', '3', '0', 'Ciotti', '9/8/2015 11:33'], ['10185057', 'Why we set up Codified Security', 'https://codifiedsecurity.com/2015/09/03/why-we-setup-codified-security/', '2', '1', 'martinald', '9/8/2015 11:33'], ['10185045', 'The Machine Stops', 'http://archive.ncsa.illinois.edu/prajlich/forster.html', '2', '0', 'jal278', '9/8/2015 11:30'], ['10185041', \"Inside Popcorn Time  the world's fastest growing piracy site\", 'http://www.dn.no/magasinet/2015/09/07/1606/Popcorn-Time/inside-popcorn-time--the-worlds-fastest-growing-piracy-site', '337', '336', 'sleepyhead', '9/8/2015 11:29'], ['10185040', 'Why Are Women Less Likely to Become Entrepreneurs', 'http://www.npr.org/2015/09/08/438473573/why-are-women-less-likely-to-become-entrepreneurs-than-men', '2', '0', 'dynofuz', '9/8/2015 11:29']]\n",
          "output_type": "stream"
        }
      ]
    },
    {
      "cell_type": "markdown",
      "source": "# Removing the headers",
      "metadata": {}
    },
    {
      "cell_type": "code",
      "source": "headers = hn[0]\nhn = hn[1:]\nprint(headers)\nprint(hn[:5])",
      "metadata": {
        "scrolled": true,
        "trusted": true
      },
      "execution_count": 2,
      "outputs": [
        {
          "name": "stdout",
          "text": "['ard-writing/', '3', '0', 'Ciotti', '9/8/2015 11:33']\n[['10185057', 'Why we set up Codified Security', 'https://codifiedsecurity.com/2015/09/03/why-we-setup-codified-security/', '2', '1', 'martinald', '9/8/2015 11:33'], ['10185045', 'The Machine Stops', 'http://archive.ncsa.illinois.edu/prajlich/forster.html', '2', '0', 'jal278', '9/8/2015 11:30'], ['10185041', \"Inside Popcorn Time  the world's fastest growing piracy site\", 'http://www.dn.no/magasinet/2015/09/07/1606/Popcorn-Time/inside-popcorn-time--the-worlds-fastest-growing-piracy-site', '337', '336', 'sleepyhead', '9/8/2015 11:29'], ['10185040', 'Why Are Women Less Likely to Become Entrepreneurs', 'http://www.npr.org/2015/09/08/438473573/why-are-women-less-likely-to-become-entrepreneurs-than-men', '2', '0', 'dynofuz', '9/8/2015 11:29'], ['10185034', 'The American Dream Is Dead', 'http://www.fastcoexist.com/3049643/the-american-dream-is-dead-heres-where-it-went', '3', '0', 'fsethi', '9/8/2015 11:27']]\n",
          "output_type": "stream"
        }
      ]
    },
    {
      "cell_type": "markdown",
      "source": "We could observe that data contains the title, the # of comments for a given post, and the date, respectively. To answer the first question, we shall target the # of comments for a given post.",
      "metadata": {
        "tags": []
      }
    },
    {
      "cell_type": "markdown",
      "source": "# Extracting ONLY `Ask HN` and `Show HN` Posts From The Dataset\n\nWe have to extract only Ask HN and Show HN posts from the dataset. In this cell, we are separating Ask HN, Show HN, and Other HN in different lists. This block of code iterates through the dataset, finds the posts that start with either Ask HN or Show HN, and puts them in a relevant list. This step makes the further analytics easier.",
      "metadata": {}
    },
    {
      "cell_type": "code",
      "source": "# Identify posts that begin with either `Ask HN` or `Show HN` and separate the data into different lists.\n#ask_posts = []\n#show_posts = []\n#other_posts = []\n\nask_hn_posts = [] #Ask HN list\nshow_hn_posts = [] #Show HN List\nother_hn_posts = [] #Other HN List\n\n\nfor post in hn:\n    title = post[1]\n    if title.lower().startswith('ask hn'): #If the title of the post is ask hn, append \n        ask_hn_posts.append(post)\n    elif title.lower().startswith('show hn'): #If the title of the post is show hn, append \n        show_hn_posts.append(post)\n    else:\n        other_hn_posts.append(post) #If the title of the post is neither ask hn nor show hn, put it into the other list\n        \n        \n#Print the lengths of the list to see how many posts of each type we have.\n\nprint(len(ask_hn_posts))\nprint(len(show_hn_posts))\nprint(len(other_hn_posts))\n",
      "metadata": {
        "trusted": true
      },
      "execution_count": 3,
      "outputs": [
        {
          "name": "stdout",
          "text": "39\n42\n1062\n",
          "output_type": "stream"
        }
      ]
    },
    {
      "cell_type": "markdown",
      "source": "So based off this output, we have:\n39 Ask HN posts\n42 Show HN posts\n1062 Other posts",
      "metadata": {}
    },
    {
      "cell_type": "markdown",
      "source": "# Total Number of Comments for `Ask HN` and `Show HN` posts\n\nThe idea here is to take each of our declared lists and calculate the average # of comments partitioned by the type of the post.\n",
      "metadata": {
        "tags": []
      }
    },
    {
      "cell_type": "code",
      "source": "total_ask_hn_comments = 0  # Set the counter of the total ask comments to 0\nfor post in ask_hn_posts:\n    total_ask_hn_comments += int(post[4]) # Loop through the number of ask comments and increment the counter \navg_ask_hn_comments = total_ask_hn_comments / len(ask_hn_posts) # Find the average (total # of comments partitioned by the legth of our ask gn list.\nprint(avg_ask_hn_comments) ",
      "metadata": {
        "scrolled": true,
        "trusted": true
      },
      "execution_count": 4,
      "outputs": [
        {
          "name": "stdout",
          "text": "7.256410256410256\n",
          "output_type": "stream"
        }
      ]
    },
    {
      "cell_type": "code",
      "source": "total_show_hn_comments = 0 \nfor post in show_hn_posts:\n    total_show_hn_comments += int(post[4])\navg_show_hn_comments = total_show_hn_comments / len(show_hn_posts)\nprint(avg_show_hn_comments)",
      "metadata": {
        "trusted": true
      },
      "execution_count": 5,
      "outputs": [
        {
          "name": "stdout",
          "text": "8.119047619047619\n",
          "output_type": "stream"
        }
      ]
    },
    {
      "cell_type": "markdown",
      "source": "It is a close comparison, but `Show HN` posts receive more comments than `Ask HN` posts. Consequently, we will be targeting `Show HN` posts for the remaining of this project.",
      "metadata": {}
    },
    {
      "cell_type": "markdown",
      "source": "# Finding the Amount of `Show HN` Posts and Comments by Hour Created\n\nAfter determining what type of the post receives more comments. Our next task is to determine whether `Show HN` post can receive more comments if posted at the certain time. First, we need to find the amount of `Show HN` post created per hour of the day and amount of comments those posts receive. With that data, we will be able to find the mean amount of comments `Show HN` posts created at each hour of the day receive. We will follow the 24-hour format for convenience.",
      "metadata": {}
    },
    {
      "cell_type": "code",
      "source": "# Calculate the amount of ask posts created during each hour of day and the number of comments received.\nimport datetime as d #To match up the attribute's format\n\nresults = []\n\nfor post in show_hn_posts:\n    results.append(\n        [post[6], int(post[4])]\n    )\n    \n\ndateformat = \"%m/%d/%Y %H:%M\"\ncomment_per_hr = {}\ncount_per_hr = {} \n\nfor each_row in results:\n    date = each_row[0]\n    comment = each_row[1]\n    time = d.datetime.strptime(date, dateformat).strftime(\"%H\")\n    \n    if time in count_per_hr:\n        comment_per_hr[time] += comment # number of comments received\n        count_per_hr[time] += 1 # per each hour of the day\n    else:\n        comment_per_hr[time] = comment \n        count_per_hr[time] = 1\n\ncomment_per_hr",
      "metadata": {
        "trusted": true
      },
      "execution_count": 6,
      "outputs": [
        {
          "execution_count": 6,
          "output_type": "execute_result",
          "data": {
            "text/plain": "{'11': 45,\n '10': 0,\n '08': 0,\n '06': 36,\n '05': 166,\n '04': 27,\n '03': 2,\n '22': 1,\n '21': 3,\n '19': 14,\n '18': 0,\n '16': 0,\n '13': 9,\n '12': 32,\n '07': 0,\n '02': 6,\n '00': 0,\n '23': 0,\n '15': 0,\n '14': 0}"
          },
          "metadata": {}
        }
      ]
    },
    {
      "cell_type": "markdown",
      "source": "# Average Number of `Show HN` Posts by Hour",
      "metadata": {}
    },
    {
      "cell_type": "code",
      "source": "avg_by_hr = []\n\nfor hr in comment_per_hr:\n    avg_by_hr.append([hr, comment_per_hr[hr] / count_per_hr[hr]]) # Take number of comments partitioned by hour per day\navg_by_hr    ",
      "metadata": {
        "trusted": true
      },
      "execution_count": 7,
      "outputs": [
        {
          "execution_count": 7,
          "output_type": "execute_result",
          "data": {
            "text/plain": "[['11', 11.25],\n ['10', 0.0],\n ['08', 0.0],\n ['06', 12.0],\n ['05', 83.0],\n ['04', 27.0],\n ['03', 1.0],\n ['22', 0.5],\n ['21', 3.0],\n ['19', 7.0],\n ['18', 0.0],\n ['16', 0.0],\n ['13', 1.8],\n ['12', 8.0],\n ['07', 0.0],\n ['02', 3.0],\n ['00', 0.0],\n ['23', 0.0],\n ['15', 0.0],\n ['14', 0.0]]"
          },
          "metadata": {}
        }
      ]
    },
    {
      "cell_type": "markdown",
      "source": "# Sorting Values from our List",
      "metadata": {}
    },
    {
      "cell_type": "code",
      "source": "sort_avg_by_hr = []\nfor row in avg_by_hr:\n    sort_avg_by_hr.append([row[1], row[0]])\n    \nprint(sort_avg_by_hr)\n\nreverse_sort = sorted(sort_avg_by_hr, reverse = True) # column\n\nreverse_sort",
      "metadata": {
        "scrolled": true,
        "trusted": true
      },
      "execution_count": 8,
      "outputs": [
        {
          "name": "stdout",
          "text": "[[11.25, '11'], [0.0, '10'], [0.0, '08'], [12.0, '06'], [83.0, '05'], [27.0, '04'], [1.0, '03'], [0.5, '22'], [3.0, '21'], [7.0, '19'], [0.0, '18'], [0.0, '16'], [1.8, '13'], [8.0, '12'], [0.0, '07'], [3.0, '02'], [0.0, '00'], [0.0, '23'], [0.0, '15'], [0.0, '14']]\n",
          "output_type": "stream"
        },
        {
          "execution_count": 8,
          "output_type": "execute_result",
          "data": {
            "text/plain": "[[83.0, '05'],\n [27.0, '04'],\n [12.0, '06'],\n [11.25, '11'],\n [8.0, '12'],\n [7.0, '19'],\n [3.0, '21'],\n [3.0, '02'],\n [1.8, '13'],\n [1.0, '03'],\n [0.5, '22'],\n [0.0, '23'],\n [0.0, '18'],\n [0.0, '16'],\n [0.0, '15'],\n [0.0, '14'],\n [0.0, '10'],\n [0.0, '08'],\n [0.0, '07'],\n [0.0, '00']]"
          },
          "metadata": {}
        }
      ]
    },
    {
      "cell_type": "code",
      "source": "# Sort and print 24 hours, desc.\n\nprint(\"Top Hours for 'Show HN' Comments\\n\")\nfor avg, hr in reverse_sort[:24]:\n      print(\n          \"\\n{}: {:.2f} Average comments per single 'Show HN' post\".format(\n             d.datetime.strptime(hr, \"%H\").strftime(\"%H:%M\"), avg\n          )\n      )",
      "metadata": {
        "trusted": true
      },
      "execution_count": 9,
      "outputs": [
        {
          "name": "stdout",
          "text": "Top Hours for 'Show HN' Comments\n\n\n05:00: 83.00 Average comments per single 'Show HN' post\n\n04:00: 27.00 Average comments per single 'Show HN' post\n\n06:00: 12.00 Average comments per single 'Show HN' post\n\n11:00: 11.25 Average comments per single 'Show HN' post\n\n12:00: 8.00 Average comments per single 'Show HN' post\n\n19:00: 7.00 Average comments per single 'Show HN' post\n\n21:00: 3.00 Average comments per single 'Show HN' post\n\n02:00: 3.00 Average comments per single 'Show HN' post\n\n13:00: 1.80 Average comments per single 'Show HN' post\n\n03:00: 1.00 Average comments per single 'Show HN' post\n\n22:00: 0.50 Average comments per single 'Show HN' post\n\n23:00: 0.00 Average comments per single 'Show HN' post\n\n18:00: 0.00 Average comments per single 'Show HN' post\n\n16:00: 0.00 Average comments per single 'Show HN' post\n\n15:00: 0.00 Average comments per single 'Show HN' post\n\n14:00: 0.00 Average comments per single 'Show HN' post\n\n10:00: 0.00 Average comments per single 'Show HN' post\n\n08:00: 0.00 Average comments per single 'Show HN' post\n\n07:00: 0.00 Average comments per single 'Show HN' post\n\n00:00: 0.00 Average comments per single 'Show HN' post\n",
          "output_type": "stream"
        }
      ]
    },
    {
      "cell_type": "markdown",
      "source": "The hour that receives the highest number of comments per post on average is 05:00, with an average of 83 comments per post. It is nearly a 78% increase in the number of comments between the first top 2 hours. There's about a 60% increase in the number of comments between the hours with highest and the second highest average number of comments.\n\nNOTE: the timezone that this data was published in is Eastern Time in the United States of America. ",
      "metadata": {}
    },
    {
      "cell_type": "markdown",
      "source": "# Conclusion\n\n\nIn this project, we took a look at two types of posts on HackerNews, `Ask HN` and `Show HN`. Based on our conclusions, the best time to post and receive the most comments is 4:00 AM - 5:00 AM.",
      "metadata": {}
    }
  ]
}